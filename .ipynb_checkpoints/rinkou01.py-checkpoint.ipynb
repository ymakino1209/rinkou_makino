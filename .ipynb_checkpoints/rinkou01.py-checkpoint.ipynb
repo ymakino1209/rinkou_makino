{
 "cells": [
  {
   "cell_type": "raw",
   "metadata": {},
   "source": [
    "お題　（それぞれ個別のスクリプトにしてもよいし、ひとつにまとめてもよい）\n",
    "ファイルの行数をカウントする（pandas利用）\n",
    "タブをスペースに置換したファイルを出力する\n",
    "自然数Nをコマンドライン引数にとり、入力のうち先頭のN行を出力する\n",
    "自然数Nをコマンドライン引数にとり、入力のうち末尾のN行を出力する\n",
    "１列目の文字列を集計して標準出力に表示する(文字列/カウント数を表示）\n",
    "\n",
    "発展課題（余裕があれば）：\n",
    "自然数M, Nをコマンドライン引数にとり、入力のうちM行目からN行目を出力する\n",
    "１列目だけファイルに出力する（重複行は除去する、順番は任意）\n",
    "各行の２列目の文字列の出現頻度を求め、出現頻度の高い順にソートして標準出力に表示する"
   ]
  },
  {
   "cell_type": "code",
   "execution_count": null,
   "metadata": {},
   "outputs": [],
   "source": [
    "# rinkou01.py by makino\n",
    "\n",
    "# import libraries\n",
    "import os\n",
    "import sys\n",
    "import argparse\n",
    "import pandas as pd\n",
    "from pandas import DataFrame\n",
    "\n",
    "# read file\n",
    "def read_file(path):\n",
    "    df = pd.read_table(path, encoding=\"utf_8\", header=None, names=('city', 'address'))\n",
    "    return df\n",
    "\n",
    "# タブをスペースに置換したファイルを出力する\n",
    "# export file as space-limited file\n",
    "def exprot_file_space(DataFrame):\n",
    "    file_name_new = os.path.splitext(os.path.basename(filename))[0] + \"_space.txt\"\n",
    "    return DataFrame.to_csv(path_or_buf = file_name_new,\n",
    "                            sep=\" \", columns=None, header=None, index=None, encoding=\"utf_8\")\n",
    "\n",
    "# 自然数Nをコマンドライン引数にとり、入力のうち先頭のN行を出力する\n",
    "# export the initial \"n\" lines\n",
    "def exprot_file_initial_n(DataFrame, num_lines):\n",
    "    file_name_new = os.path.splitext(os.path.basename(filename))[0] + \"_initial\" + num_lines + \".txt\"\n",
    "    df_initial_n = DataFrame[:num_lines]\n",
    "    return df_initial_n.to_csv(path_or_buf = file_name_new,\n",
    "                               sep=\"\\t\", columns=None, header=None, index=None, encoding=\"utf_8\")\n",
    "\n",
    "# 自然数Nをコマンドライン引数にとり、入力のうち末尾のN行を出力する\n",
    "# exprot the last \"n\" lines\n",
    "def exprot_file_initial_n(DataFrame, num_lines):\n",
    "    file_name_new = os.path.splitext(os.path.basename(filename))[0] + \"_last\" + num_lines + \".txt\"\n",
    "    df_last_n = df[-num_lines:]\n",
    "    return df_last_n.to_csv(path_or_buf = file_name_new,\n",
    "                            sep=\"\\t\", columns=None, header=None, index=None, encoding=\"utf_8\")\n",
    "\n",
    "# １列目の文字列を集計して標準出力に表示する(文字列/カウント数を表示）\n",
    "#  Count the first column & display string/counts\n",
    "def count_city(DataFrame):\n",
    "    Series_count_city = DataFrame[\"city\"].value_counts()\n",
    "    Series_count_city.rename(columns={'city':'出現回数'})\n",
    "    # pd.set_option('display.max_rows', None)\n",
    "    return print(Series_count_city)\n",
    "\n",
    "# define main function (to increase readability)\n",
    "if __name__ == \"__main__\":\n",
    "    parser = argparse.ArgumentParser(description=\"show partial lines of file\")\n",
    "    parser.add_argument(\"file\", help=\"file path\", type=str)\n",
    "    parser.add_argument(\"number\", help=\"number of lines\", type=int)\n",
    "\n",
    "    args = parser.parse_args()\n",
    "\n",
    "    filename = args.file\n",
    "    nlines = args.number\n",
    "\n",
    "    # read file\n",
    "    df = read_file(filename)\n",
    "\n",
    "    # display the number of lines\n",
    "    print('The number of lines is %d' % len(df))\n",
    "\n",
    "    # export file as space-limited file\n",
    "    exprot_file_space(df)\n",
    "\n",
    "    #  Count the first column & display string/counts\n",
    "    count_city(df)"
   ]
  },
  {
   "cell_type": "code",
   "execution_count": null,
   "metadata": {},
   "outputs": [],
   "source": [
    "# 20200925_nakato_sample.py\n",
    "\n",
    "# importするライブラリは冒頭にまとめて記述\n",
    "import os\n",
    "import sys\n",
    "import argparse\n",
    "\n",
    "def read_file(path):\n",
    "    lines = []\n",
    "    with open(path, \"r\", encoding=\"utf-8\") as f:    \n",
    "        lines = f.readlines()   #1行ずつすべての行を別々に読みこむ\n",
    "        lines = [ln.strip(os.linesep) for ln in lines]  #os.linesepで改行コードを取得し、stripでその改行コードを削除\n",
    "    return lines\n",
    "\n",
    "# change this function that uses pandas library\n",
    "def count_lines(file_path):\n",
    "    lines = read_file(file_path)\n",
    "    return len(lines)\n",
    "\n",
    "# main関数を定義 (to increase readability)\n",
    "if __name__ == \"__main__\":\n",
    "    parser = argparse.ArgumentParser(description=\"show partial lines of file\")\n",
    "    parser.add_argument(\"file\", help=\"file path\", type=str)\n",
    "    parser.add_argument(\"number\", help=\"number of lines\", type=int)\n",
    "\n",
    "    args = parser.parse_args()\n",
    "\n",
    "    filename = args.file\n",
    "    nlines = args.number\n",
    "    print('file: %s' % filename)\n",
    "    print('number: %d' % nlines)\n",
    "\n",
    "    len = count_lines(filename)\n",
    "\n",
    "    print('length is {}'.format(len))\n"
   ]
  },
  {
   "cell_type": "raw",
   "metadata": {},
   "source": [
    "Series_count_city = df[\"city\"].value_counts()\n",
    "Series_count_city = Series_count_city.rename(columns={'city':'出現回数'})\n",
    "Series_count_city[\"都市名\"] = Series_count_city.index.values\n",
    "DataFrame_count_city = pd.DataFrame(Series_count_city)\n",
    "print(DataFrame_count_city)\n",
    "print(Series_count_city.index.values)\n",
    "print(Series_count_city)\n",
    "DataFrame_count_city = pd.DataFrame(Series_count_city)\n",
    "df_count_city = df_count_city.rename(columns={'city':'出現回数'})\n",
    "print(df_count_city)"
   ]
  },
  {
   "cell_type": "code",
   "execution_count": 9,
   "metadata": {},
   "outputs": [
    {
     "name": "stdout",
     "output_type": "stream",
     "text": [
      "      CRIM    ZN  INDUS  CHAS    NOX     RM   AGE     DIS  RAD    TAX  \\\n",
      "0  0.00632  18.0   2.31   0.0  0.538  6.575  65.2  4.0900  1.0  296.0   \n",
      "1  0.02731   0.0   7.07   0.0  0.469  6.421  78.9  4.9671  2.0  242.0   \n",
      "2  0.02729   0.0   7.07   0.0  0.469  7.185  61.1  4.9671  2.0  242.0   \n",
      "3  0.03237   0.0   2.18   0.0  0.458  6.998  45.8  6.0622  3.0  222.0   \n",
      "4  0.06905   0.0   2.18   0.0  0.458  7.147  54.2  6.0622  3.0  222.0   \n",
      "\n",
      "   PTRATIO       B  LSTAT  \n",
      "0     15.3  396.90   4.98  \n",
      "1     17.8  396.90   9.14  \n",
      "2     17.8  392.83   4.03  \n",
      "3     18.7  394.63   2.94  \n",
      "4     18.7  396.90   5.33  \n",
      "<bound method DataFrame.info of         CRIM    ZN  INDUS  CHAS    NOX     RM   AGE     DIS  RAD    TAX  \\\n",
      "0    0.00632  18.0   2.31   0.0  0.538  6.575  65.2  4.0900  1.0  296.0   \n",
      "1    0.02731   0.0   7.07   0.0  0.469  6.421  78.9  4.9671  2.0  242.0   \n",
      "2    0.02729   0.0   7.07   0.0  0.469  7.185  61.1  4.9671  2.0  242.0   \n",
      "3    0.03237   0.0   2.18   0.0  0.458  6.998  45.8  6.0622  3.0  222.0   \n",
      "4    0.06905   0.0   2.18   0.0  0.458  7.147  54.2  6.0622  3.0  222.0   \n",
      "..       ...   ...    ...   ...    ...    ...   ...     ...  ...    ...   \n",
      "501  0.06263   0.0  11.93   0.0  0.573  6.593  69.1  2.4786  1.0  273.0   \n",
      "502  0.04527   0.0  11.93   0.0  0.573  6.120  76.7  2.2875  1.0  273.0   \n",
      "503  0.06076   0.0  11.93   0.0  0.573  6.976  91.0  2.1675  1.0  273.0   \n",
      "504  0.10959   0.0  11.93   0.0  0.573  6.794  89.3  2.3889  1.0  273.0   \n",
      "505  0.04741   0.0  11.93   0.0  0.573  6.030  80.8  2.5050  1.0  273.0   \n",
      "\n",
      "     PTRATIO       B  LSTAT  \n",
      "0       15.3  396.90   4.98  \n",
      "1       17.8  396.90   9.14  \n",
      "2       17.8  392.83   4.03  \n",
      "3       18.7  394.63   2.94  \n",
      "4       18.7  396.90   5.33  \n",
      "..       ...     ...    ...  \n",
      "501     21.0  391.99   9.67  \n",
      "502     21.0  396.90   9.08  \n",
      "503     21.0  396.90   5.64  \n",
      "504     21.0  393.45   6.48  \n",
      "505     21.0  396.90   7.88  \n",
      "\n",
      "[506 rows x 13 columns]>\n",
      "['CRIM' 'ZN' 'INDUS' 'CHAS' 'NOX' 'RM' 'AGE' 'DIS' 'RAD' 'TAX' 'PTRATIO'\n",
      " 'B' 'LSTAT']\n"
     ]
    }
   ],
   "source": [
    "from sklearn import datasets\n",
    "boston = datasets.load_boston()\n",
    "\n",
    "df = DataFrame(boston.data, columns = boston.feature_names)\n",
    "print(df.head())\n",
    "print(df.info)\n",
    "print(boston.feature_names)"
   ]
  },
  {
   "cell_type": "code",
   "execution_count": null,
   "metadata": {},
   "outputs": [],
   "source": []
  },
  {
   "cell_type": "code",
   "execution_count": null,
   "metadata": {},
   "outputs": [],
   "source": []
  },
  {
   "cell_type": "code",
   "execution_count": null,
   "metadata": {},
   "outputs": [],
   "source": []
  },
  {
   "cell_type": "code",
   "execution_count": null,
   "metadata": {},
   "outputs": [],
   "source": []
  },
  {
   "cell_type": "code",
   "execution_count": null,
   "metadata": {},
   "outputs": [],
   "source": []
  },
  {
   "cell_type": "code",
   "execution_count": null,
   "metadata": {},
   "outputs": [],
   "source": []
  },
  {
   "cell_type": "code",
   "execution_count": null,
   "metadata": {},
   "outputs": [],
   "source": []
  },
  {
   "cell_type": "code",
   "execution_count": null,
   "metadata": {},
   "outputs": [],
   "source": []
  },
  {
   "cell_type": "code",
   "execution_count": null,
   "metadata": {},
   "outputs": [],
   "source": []
  },
  {
   "cell_type": "code",
   "execution_count": null,
   "metadata": {},
   "outputs": [],
   "source": []
  },
  {
   "cell_type": "code",
   "execution_count": null,
   "metadata": {},
   "outputs": [],
   "source": []
  },
  {
   "cell_type": "code",
   "execution_count": null,
   "metadata": {},
   "outputs": [],
   "source": []
  },
  {
   "cell_type": "code",
   "execution_count": null,
   "metadata": {},
   "outputs": [],
   "source": []
  },
  {
   "cell_type": "code",
   "execution_count": null,
   "metadata": {},
   "outputs": [],
   "source": []
  },
  {
   "cell_type": "code",
   "execution_count": null,
   "metadata": {},
   "outputs": [],
   "source": []
  },
  {
   "cell_type": "code",
   "execution_count": null,
   "metadata": {},
   "outputs": [],
   "source": []
  },
  {
   "cell_type": "code",
   "execution_count": null,
   "metadata": {},
   "outputs": [],
   "source": []
  },
  {
   "cell_type": "code",
   "execution_count": null,
   "metadata": {},
   "outputs": [],
   "source": []
  },
  {
   "cell_type": "code",
   "execution_count": null,
   "metadata": {},
   "outputs": [],
   "source": []
  },
  {
   "cell_type": "code",
   "execution_count": null,
   "metadata": {},
   "outputs": [],
   "source": []
  },
  {
   "cell_type": "code",
   "execution_count": null,
   "metadata": {},
   "outputs": [],
   "source": []
  },
  {
   "cell_type": "code",
   "execution_count": null,
   "metadata": {},
   "outputs": [],
   "source": []
  },
  {
   "cell_type": "code",
   "execution_count": null,
   "metadata": {},
   "outputs": [],
   "source": []
  },
  {
   "cell_type": "code",
   "execution_count": null,
   "metadata": {},
   "outputs": [],
   "source": []
  },
  {
   "cell_type": "code",
   "execution_count": null,
   "metadata": {},
   "outputs": [],
   "source": []
  },
  {
   "cell_type": "code",
   "execution_count": null,
   "metadata": {},
   "outputs": [],
   "source": []
  },
  {
   "cell_type": "code",
   "execution_count": null,
   "metadata": {},
   "outputs": [],
   "source": []
  },
  {
   "cell_type": "code",
   "execution_count": null,
   "metadata": {},
   "outputs": [],
   "source": []
  },
  {
   "cell_type": "code",
   "execution_count": null,
   "metadata": {},
   "outputs": [],
   "source": []
  },
  {
   "cell_type": "code",
   "execution_count": null,
   "metadata": {},
   "outputs": [],
   "source": []
  },
  {
   "cell_type": "code",
   "execution_count": null,
   "metadata": {},
   "outputs": [],
   "source": []
  }
 ],
 "metadata": {
  "kernelspec": {
   "display_name": "Python 3",
   "language": "python",
   "name": "python3"
  },
  "language_info": {
   "codemirror_mode": {
    "name": "ipython",
    "version": 3
   },
   "file_extension": ".py",
   "mimetype": "text/x-python",
   "name": "python",
   "nbconvert_exporter": "python",
   "pygments_lexer": "ipython3",
   "version": "3.7.6"
  }
 },
 "nbformat": 4,
 "nbformat_minor": 4
}
